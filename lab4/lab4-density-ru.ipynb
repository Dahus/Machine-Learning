{
 "cells": [
  {
   "cell_type": "markdown",
   "metadata": {},
   "source": [
    "## Лабораторная 4: восстановление плотности распределения"
   ]
  },
  {
   "cell_type": "markdown",
   "metadata": {},
   "source": [
    "Данными в этом задании являются измерения некоторых проверочных параметров на конвейерах  сборки оборудования Bosh (см. [конкурс](https://www.kaggle.com/c/bosch-production-line-performance) «Bosch Production Line Performance» на Kaggle). \n",
    "\n",
    "Все исходные данные Bosh не помещаются в оперативную память компьютера, поэтому в файле `data.csv` — лишь некоторые признаки. Прочтите данные из файла `data.csv`. Целевым признаком здесь является `Response` — наличие брака в оборудовании. "
   ]
  },
  {
   "cell_type": "code",
   "execution_count": 14,
   "metadata": {},
   "outputs": [],
   "source": [
    "import pandas as pd"
   ]
  },
  {
   "cell_type": "code",
   "execution_count": 15,
   "metadata": {},
   "outputs": [
    {
     "data": {
      "text/html": [
       "<div>\n",
       "<style scoped>\n",
       "    .dataframe tbody tr th:only-of-type {\n",
       "        vertical-align: middle;\n",
       "    }\n",
       "\n",
       "    .dataframe tbody tr th {\n",
       "        vertical-align: top;\n",
       "    }\n",
       "\n",
       "    .dataframe thead th {\n",
       "        text-align: right;\n",
       "    }\n",
       "</style>\n",
       "<table border=\"1\" class=\"dataframe\">\n",
       "  <thead>\n",
       "    <tr style=\"text-align: right;\">\n",
       "      <th></th>\n",
       "      <th>L1_S24_F1844</th>\n",
       "      <th>L1_S24_F1846</th>\n",
       "      <th>Response</th>\n",
       "    </tr>\n",
       "  </thead>\n",
       "  <tbody>\n",
       "    <tr>\n",
       "      <th>54726</th>\n",
       "      <td>0.013</td>\n",
       "      <td>0.134</td>\n",
       "      <td>0</td>\n",
       "    </tr>\n",
       "    <tr>\n",
       "      <th>54727</th>\n",
       "      <td>0.097</td>\n",
       "      <td>-0.155</td>\n",
       "      <td>0</td>\n",
       "    </tr>\n",
       "    <tr>\n",
       "      <th>54728</th>\n",
       "      <td>0.020</td>\n",
       "      <td>-0.116</td>\n",
       "      <td>0</td>\n",
       "    </tr>\n",
       "  </tbody>\n",
       "</table>\n",
       "</div>"
      ],
      "text/plain": [
       "       L1_S24_F1844  L1_S24_F1846  Response\n",
       "54726         0.013         0.134         0\n",
       "54727         0.097        -0.155         0\n",
       "54728         0.020        -0.116         0"
      ]
     },
     "execution_count": 15,
     "metadata": {},
     "output_type": "execute_result"
    }
   ],
   "source": [
    "data = pd.read_csv(r'C:\\Users\\user\\Desktop\\Машинное обучение\\lab4\\data.csv')\n",
    "data.tail(3)"
   ]
  },
  {
   "cell_type": "markdown",
   "metadata": {},
   "source": [
    "## 1 \n",
    "Постройте на одном графике два приближения к плотности распределения признака `L1_S24_F1846` для `Response = 0` и для `Response = 1`, используя одно из следующих ядер (номер ядра выберите по формуле: `(n mod 6) + 1`, где `n` — ваш номер в списке группы):\n",
    "\n",
    "    1.\tкусочно-постоянное (прямоугольное) -  tophat\n",
    "    2.\tгауссовское -  gaussian\n",
    "    3.\tлинейное (треугольник) -  linear\n",
    "    4.\tкосинусоидальное -  cosine\n",
    "    5.\tквадратичное (Епанечникова) -  epanechnikov\n",
    "    6.\tэкспоненциальное -  exponential\n"
   ]
  },
  {
   "cell_type": "code",
   "execution_count": 16,
   "metadata": {},
   "outputs": [],
   "source": [
    "from sklearn.neighbors import KernelDensity\n",
    "import numpy as np\n",
    "\n",
    "import matplotlib.pyplot as plt"
   ]
  },
  {
   "cell_type": "markdown",
   "metadata": {},
   "source": [
    "*Help:*\n",
    "\n",
    "    i0 = data['Response'] == 0\n",
    "    kde0 = KernelDensity(kernel='gaussian', bandwidth=0.1).fit(data.loc[i0, 'L1_S24_F1846'].values.reshape(-1, 1))\n",
    "    X_plot = np.linspace(-1, 1, 1000).reshape(-1, 1)\n",
    "    Dens0 = np.exp(kde0.score_samples(X_plot))  # score_samples возвращает логарифм плотности"
   ]
  },
  {
   "cell_type": "code",
   "execution_count": 17,
   "metadata": {},
   "outputs": [],
   "source": [
    "i0 = data['Response'] == 0\n",
    "kde0 = KernelDensity(kernel='gaussian', bandwidth=0.1).fit(data.loc[i0, 'L1_S24_F1846'].values.reshape(-1, 1))\n",
    "X_plot = np.linspace(-1, 1, 1000).reshape(-1, 1)\n",
    "Dens0 = np.exp(kde0.score_samples(X_plot))  # score_samples возвращает логарифм плотности"
   ]
  },
  {
   "cell_type": "markdown",
   "metadata": {},
   "source": [
    "Ответьте в комментариях на вопрос: является ли выборка хорошо разделимой по признаку  `L1_S24_F1846`?"
   ]
  },
  {
   "cell_type": "code",
   "execution_count": 18,
   "metadata": {},
   "outputs": [],
   "source": [
    "# да, потому что расстояние между ближайшими точками, расположенными по разные стороны от нее, является максимальными."
   ]
  },
  {
   "cell_type": "markdown",
   "metadata": {},
   "source": [
    "## 2"
   ]
  },
  {
   "cell_type": "markdown",
   "metadata": {},
   "source": [
    "Разбейте выборку `data` на две равные части: тренировочную `dataTrain` и проверочную `dataTest`. "
   ]
  },
  {
   "cell_type": "code",
   "execution_count": 19,
   "metadata": {},
   "outputs": [],
   "source": [
    "dataTrain = data.loc[0:data.shape[0] / 2, ].reset_index(drop=True)\n",
    "dataTest = data.loc[data.shape[0] / 2:data.shape[0], ].reset_index(drop=True)"
   ]
  },
  {
   "cell_type": "markdown",
   "metadata": {},
   "source": [
    "Пользуясь кросс-валидацией, подберите **для каждого класса `Response` (`r=0` и `r=1`)** значение ширины ядра `bandwidth`, при котором логарифм правдоподобия максимален на проверочной выборке.\n",
    "\n",
    "*Help:*\n",
    "\n",
    "    r = 0\n",
    "    kde0 = KernelDensity(kernel='gaussian', bandwidth=0.05)\n",
    "    kde0.fit(dataTrain.loc[dataTrain['Response']==r, 'L1_S24_F1846'].values.reshape(-1, 1))\n",
    "    logProbability0 = kde0.score_samples(dataTest.loc[dataTest['Response']==r, 'L1_S24_F1846'].values.reshape(-1, 1))\n",
    "    logProbability0[np.isinf(logProbability0)] = -100 # заменяем -бесконечность\n",
    "    logLikehood0 = logProbability0.sum()\n",
    "    print(logLikehood0)"
   ]
  },
  {
   "cell_type": "code",
   "execution_count": 20,
   "metadata": {},
   "outputs": [
    {
     "name": "stdout",
     "output_type": "stream",
     "text": [
      "20544.80746112119 103.98787944779149\n"
     ]
    }
   ],
   "source": [
    "r0 = 0\n",
    "kde0 = KernelDensity(kernel='gaussian', bandwidth=0.05)\n",
    "kde0.fit(dataTrain.loc[dataTrain['Response']==r0, 'L1_S24_F1846'].values.reshape(-1, 1))\n",
    "logProbability0 = kde0.score_samples(dataTest.loc[dataTest['Response']==r0, 'L1_S24_F1846'].values.reshape(-1, 1))\n",
    "logProbability0[np.isinf(logProbability0)] = -100 # заменяем -бесконечность\n",
    "logLikehood0 = logProbability0.sum()\n",
    "\n",
    "r1 = 1\n",
    "kde1 = KernelDensity(kernel='gaussian', bandwidth=0.05)\n",
    "kde1.fit(dataTrain.loc[dataTrain['Response']==r1, 'L1_S24_F1846'].values.reshape(-1, 1))\n",
    "logProbability1 = kde1.score_samples(dataTest.loc[dataTest['Response']==r1, 'L1_S24_F1846'].values.reshape(-1, 1))\n",
    "logProbability1[np.isinf(logProbability1)] = -100 # заменяем -бесконечность\n",
    "logLikehood1 = logProbability1.sum()\n",
    "\n",
    "print(logLikehood0, logLikehood1)"
   ]
  },
  {
   "cell_type": "markdown",
   "metadata": {},
   "source": [
    "### 3"
   ]
  },
  {
   "cell_type": "markdown",
   "metadata": {},
   "source": [
    "Для найденных наилучших `bandwidth` вычислите `p(x|0)` и `p(x|1)` для тестовой выборки. "
   ]
  },
  {
   "cell_type": "code",
   "execution_count": 21,
   "metadata": {},
   "outputs": [],
   "source": [
    "predictionProbXafter0 = np.exp(kde0.score_samples(dataTest['L1_S24_F1846'].values.reshape(-1, 1)))\n",
    "predictionProbXafter1 = np.exp(kde1.score_samples(dataTest['L1_S24_F1846'].values.reshape(-1, 1)))"
   ]
  },
  {
   "cell_type": "markdown",
   "metadata": {},
   "source": [
    "# По формуле Байеса найдите затем `p(0|x)` и `p(1|x)`. Отсортируйте все объекты тестовой выборки по возрастанию предсказанной вероятности `p(1|x)`, выведите на экран вероятности для последних 10 объектов и рассчитайте количество бракованных деталей среди последних 100 объектов в отсортированном ряду.\n",
    "\n",
    "*Help:*\n",
    "    \n",
    "    ind = np.argsort(predictionProb1afterX) - сортировка, возвращающая индексы элементов\n",
    "    print(predictionProb1afterX[ind[-10:]]) - вывод последних 10 элементов\n",
    "    print(sum(dataTest.loc[ind[-100:],'Response'])) - количество бракованных среди 100 с максимальной вероятностью брака"
   ]
  },
  {
   "cell_type": "code",
   "execution_count": 22,
   "metadata": {},
   "outputs": [
    {
     "name": "stdout",
     "output_type": "stream",
     "text": [
      "[2.60911547 2.60911547 2.60911547 2.60911547 2.60911547 2.60911547\n",
      " 2.60911547 2.60911547 2.60911547 2.60911547]\n",
      "2\n"
     ]
    }
   ],
   "source": [
    "ind = np.argsort(predictionProbXafter1) # сортировка, возвращающая индексы элементов\n",
    "print(predictionProbXafter1[ind[-10:]]) # вывод последних 10 элементов\n",
    "print(sum(dataTest.loc[ind[-100:],'Response'])) # количество бракованных среди 100 с максимальной вероятностью брака"
   ]
  },
  {
   "cell_type": "code",
   "execution_count": null,
   "metadata": {},
   "outputs": [],
   "source": []
  }
 ],
 "metadata": {
  "kernelspec": {
   "display_name": "Python 3",
   "language": "python",
   "name": "python3"
  },
  "language_info": {
   "codemirror_mode": {
    "name": "ipython",
    "version": 3
   },
   "file_extension": ".py",
   "mimetype": "text/x-python",
   "name": "python",
   "nbconvert_exporter": "python",
   "pygments_lexer": "ipython3",
   "version": "3.8.8"
  }
 },
 "nbformat": 4,
 "nbformat_minor": 2
}
